{
  "nbformat": 4,
  "nbformat_minor": 0,
  "metadata": {
    "colab": {
      "name": "Tensorflow-Beginning.ipynb",
      "provenance": [],
      "collapsed_sections": []
    },
    "kernelspec": {
      "name": "python3",
      "display_name": "Python 3"
    }
  },
  "cells": [
    {
      "cell_type": "code",
      "metadata": {
        "id": "wq3FmWJ1P4Di",
        "outputId": "d1ba0c7d-d67e-4b0f-b332-bfc1d6d1fdf7",
        "colab": {
          "base_uri": "https://localhost:8080/"
        }
      },
      "source": [
        "#Install the tensorflow module (not required in Google Colab, but is needed in your local PC)\n",
        "!pip install tensorflow"
      ],
      "execution_count": 1,
      "outputs": [
        {
          "output_type": "stream",
          "text": [
            "Requirement already satisfied: tensorflow in /usr/local/lib/python3.6/dist-packages (2.3.0)\n",
            "Requirement already satisfied: tensorflow-estimator<2.4.0,>=2.3.0 in /usr/local/lib/python3.6/dist-packages (from tensorflow) (2.3.0)\n",
            "Requirement already satisfied: tensorboard<3,>=2.3.0 in /usr/local/lib/python3.6/dist-packages (from tensorflow) (2.3.0)\n",
            "Requirement already satisfied: gast==0.3.3 in /usr/local/lib/python3.6/dist-packages (from tensorflow) (0.3.3)\n",
            "Requirement already satisfied: h5py<2.11.0,>=2.10.0 in /usr/local/lib/python3.6/dist-packages (from tensorflow) (2.10.0)\n",
            "Requirement already satisfied: wrapt>=1.11.1 in /usr/local/lib/python3.6/dist-packages (from tensorflow) (1.12.1)\n",
            "Requirement already satisfied: absl-py>=0.7.0 in /usr/local/lib/python3.6/dist-packages (from tensorflow) (0.10.0)\n",
            "Requirement already satisfied: termcolor>=1.1.0 in /usr/local/lib/python3.6/dist-packages (from tensorflow) (1.1.0)\n",
            "Requirement already satisfied: numpy<1.19.0,>=1.16.0 in /usr/local/lib/python3.6/dist-packages (from tensorflow) (1.18.5)\n",
            "Requirement already satisfied: six>=1.12.0 in /usr/local/lib/python3.6/dist-packages (from tensorflow) (1.15.0)\n",
            "Requirement already satisfied: wheel>=0.26 in /usr/local/lib/python3.6/dist-packages (from tensorflow) (0.35.1)\n",
            "Requirement already satisfied: keras-preprocessing<1.2,>=1.1.1 in /usr/local/lib/python3.6/dist-packages (from tensorflow) (1.1.2)\n",
            "Requirement already satisfied: protobuf>=3.9.2 in /usr/local/lib/python3.6/dist-packages (from tensorflow) (3.12.4)\n",
            "Requirement already satisfied: scipy==1.4.1 in /usr/local/lib/python3.6/dist-packages (from tensorflow) (1.4.1)\n",
            "Requirement already satisfied: google-pasta>=0.1.8 in /usr/local/lib/python3.6/dist-packages (from tensorflow) (0.2.0)\n",
            "Requirement already satisfied: grpcio>=1.8.6 in /usr/local/lib/python3.6/dist-packages (from tensorflow) (1.33.2)\n",
            "Requirement already satisfied: astunparse==1.6.3 in /usr/local/lib/python3.6/dist-packages (from tensorflow) (1.6.3)\n",
            "Requirement already satisfied: opt-einsum>=2.3.2 in /usr/local/lib/python3.6/dist-packages (from tensorflow) (3.3.0)\n",
            "Requirement already satisfied: werkzeug>=0.11.15 in /usr/local/lib/python3.6/dist-packages (from tensorboard<3,>=2.3.0->tensorflow) (1.0.1)\n",
            "Requirement already satisfied: google-auth<2,>=1.6.3 in /usr/local/lib/python3.6/dist-packages (from tensorboard<3,>=2.3.0->tensorflow) (1.17.2)\n",
            "Requirement already satisfied: requests<3,>=2.21.0 in /usr/local/lib/python3.6/dist-packages (from tensorboard<3,>=2.3.0->tensorflow) (2.23.0)\n",
            "Requirement already satisfied: tensorboard-plugin-wit>=1.6.0 in /usr/local/lib/python3.6/dist-packages (from tensorboard<3,>=2.3.0->tensorflow) (1.7.0)\n",
            "Requirement already satisfied: setuptools>=41.0.0 in /usr/local/lib/python3.6/dist-packages (from tensorboard<3,>=2.3.0->tensorflow) (50.3.2)\n",
            "Requirement already satisfied: google-auth-oauthlib<0.5,>=0.4.1 in /usr/local/lib/python3.6/dist-packages (from tensorboard<3,>=2.3.0->tensorflow) (0.4.2)\n",
            "Requirement already satisfied: markdown>=2.6.8 in /usr/local/lib/python3.6/dist-packages (from tensorboard<3,>=2.3.0->tensorflow) (3.3.3)\n",
            "Requirement already satisfied: cachetools<5.0,>=2.0.0 in /usr/local/lib/python3.6/dist-packages (from google-auth<2,>=1.6.3->tensorboard<3,>=2.3.0->tensorflow) (4.1.1)\n",
            "Requirement already satisfied: rsa<5,>=3.1.4; python_version >= \"3\" in /usr/local/lib/python3.6/dist-packages (from google-auth<2,>=1.6.3->tensorboard<3,>=2.3.0->tensorflow) (4.6)\n",
            "Requirement already satisfied: pyasn1-modules>=0.2.1 in /usr/local/lib/python3.6/dist-packages (from google-auth<2,>=1.6.3->tensorboard<3,>=2.3.0->tensorflow) (0.2.8)\n",
            "Requirement already satisfied: certifi>=2017.4.17 in /usr/local/lib/python3.6/dist-packages (from requests<3,>=2.21.0->tensorboard<3,>=2.3.0->tensorflow) (2020.6.20)\n",
            "Requirement already satisfied: urllib3!=1.25.0,!=1.25.1,<1.26,>=1.21.1 in /usr/local/lib/python3.6/dist-packages (from requests<3,>=2.21.0->tensorboard<3,>=2.3.0->tensorflow) (1.24.3)\n",
            "Requirement already satisfied: chardet<4,>=3.0.2 in /usr/local/lib/python3.6/dist-packages (from requests<3,>=2.21.0->tensorboard<3,>=2.3.0->tensorflow) (3.0.4)\n",
            "Requirement already satisfied: idna<3,>=2.5 in /usr/local/lib/python3.6/dist-packages (from requests<3,>=2.21.0->tensorboard<3,>=2.3.0->tensorflow) (2.10)\n",
            "Requirement already satisfied: requests-oauthlib>=0.7.0 in /usr/local/lib/python3.6/dist-packages (from google-auth-oauthlib<0.5,>=0.4.1->tensorboard<3,>=2.3.0->tensorflow) (1.3.0)\n",
            "Requirement already satisfied: importlib-metadata; python_version < \"3.8\" in /usr/local/lib/python3.6/dist-packages (from markdown>=2.6.8->tensorboard<3,>=2.3.0->tensorflow) (2.0.0)\n",
            "Requirement already satisfied: pyasn1>=0.1.3 in /usr/local/lib/python3.6/dist-packages (from rsa<5,>=3.1.4; python_version >= \"3\"->google-auth<2,>=1.6.3->tensorboard<3,>=2.3.0->tensorflow) (0.4.8)\n",
            "Requirement already satisfied: oauthlib>=3.0.0 in /usr/local/lib/python3.6/dist-packages (from requests-oauthlib>=0.7.0->google-auth-oauthlib<0.5,>=0.4.1->tensorboard<3,>=2.3.0->tensorflow) (3.1.0)\n",
            "Requirement already satisfied: zipp>=0.5 in /usr/local/lib/python3.6/dist-packages (from importlib-metadata; python_version < \"3.8\"->markdown>=2.6.8->tensorboard<3,>=2.3.0->tensorflow) (3.4.0)\n"
          ],
          "name": "stdout"
        }
      ]
    },
    {
      "cell_type": "code",
      "metadata": {
        "id": "WM5iiZ_RQU7X"
      },
      "source": [
        "#Here, we would go with the latest (2.x) release of tensorflow by selecting the version \n",
        "#Note: By default, Colab tends to use the 2.x version\n",
        "%tensorflow_version 2.x "
      ],
      "execution_count": 2,
      "outputs": []
    },
    {
      "cell_type": "code",
      "metadata": {
        "id": "k8eu42glQPdB",
        "outputId": "4946faaa-495a-413f-855a-a176662ec532",
        "colab": {
          "base_uri": "https://localhost:8080/"
        }
      },
      "source": [
        "#import the tensorflow module\n",
        "import tensorflow as tf\n",
        "#Display the tensorflow version we are using\n",
        "print(tf.version)\n"
      ],
      "execution_count": 4,
      "outputs": [
        {
          "output_type": "stream",
          "text": [
            "<module 'tensorflow._api.v2.version' from '/usr/local/lib/python3.6/dist-packages/tensorflow/_api/v2/version/__init__.py'>\n"
          ],
          "name": "stdout"
        }
      ]
    },
    {
      "cell_type": "code",
      "metadata": {
        "id": "J0BJ5kM9QuI0"
      },
      "source": [
        "#The science (and art) of creating tensors\n",
        "scalar_val = tf.Variable(123,tf.int16)\n",
        "floating_val = tf.Variable(123.456,tf.float32)\n",
        "string_val = tf.Variable(\"hello everyone. Nice to learn tensorflow!\",tf.string)"
      ],
      "execution_count": 5,
      "outputs": []
    },
    {
      "cell_type": "code",
      "metadata": {
        "id": "KMkmMKnORFIy",
        "outputId": "f1006260-79e2-4876-f9d3-a3bc693ad529",
        "colab": {
          "base_uri": "https://localhost:8080/"
        }
      },
      "source": [
        "#Let us display the values (print) these tensors\n",
        "print(scalar_val)\n",
        "print(floating_val)\n",
        "print(string_val)"
      ],
      "execution_count": 6,
      "outputs": [
        {
          "output_type": "stream",
          "text": [
            "<tf.Variable 'Variable:0' shape=() dtype=int32, numpy=123>\n",
            "<tf.Variable 'Variable:0' shape=() dtype=float32, numpy=123.456>\n",
            "<tf.Variable 'Variable:0' shape=() dtype=string, numpy=b'hello everyone. Nice to learn tensorflow!'>\n"
          ],
          "name": "stdout"
        }
      ]
    },
    {
      "cell_type": "code",
      "metadata": {
        "id": "FIQMa8tnRMAl",
        "outputId": "af64d871-de5b-448a-f7e4-c073cdea0a8e",
        "colab": {
          "base_uri": "https://localhost:8080/"
        }
      },
      "source": [
        "#The idea behind shape and rank of tensors\n",
        "#Shape: Describes the dimension of the tensor (total elements contained along each dimension)\n",
        "\n",
        "scalar_val_shap = tf.shape(scalar_val)\n",
        "print(scalar_val_shap)\n",
        "\n",
        "floating_val_shap = tf.shape(floating_val)\n",
        "print(floating_val)"
      ],
      "execution_count": 9,
      "outputs": [
        {
          "output_type": "stream",
          "text": [
            "tf.Tensor([], shape=(0,), dtype=int32)\n",
            "<tf.Variable 'Variable:0' shape=() dtype=float32, numpy=123.456>\n"
          ],
          "name": "stdout"
        }
      ]
    },
    {
      "cell_type": "code",
      "metadata": {
        "id": "iId86mc6RfRX",
        "outputId": "f65cd53f-aa64-4960-9c62-2add32012c1b",
        "colab": {
          "base_uri": "https://localhost:8080/"
        }
      },
      "source": [
        "#Now, if we use e.g. lists/nested lists instead of just a \"single\" scalar value\n",
        "list_tensor1 = tf.Variable([1,3,5,6],tf.int16)\n",
        "print(list_tensor1)\n",
        "print(tf.shape(list_tensor1))\n",
        "\n",
        "list_tensor2 = tf.Variable([[1,2,3],[4,5,6]],tf.int16)\n",
        "print(list_tensor2)\n",
        "print(tf.shape(list_tensor2))\n",
        "\n",
        "#how about the rank? It describes the level of nesting within the tensor in simple words.\n",
        "\n",
        "print(tf.rank(list_tensor1))\n",
        "print(tf.rank(list_tensor2))"
      ],
      "execution_count": 14,
      "outputs": [
        {
          "output_type": "stream",
          "text": [
            "<tf.Variable 'Variable:0' shape=(4,) dtype=int32, numpy=array([1, 3, 5, 6], dtype=int32)>\n",
            "tf.Tensor([4], shape=(1,), dtype=int32)\n",
            "<tf.Variable 'Variable:0' shape=(2, 3) dtype=int32, numpy=\n",
            "array([[1, 2, 3],\n",
            "       [4, 5, 6]], dtype=int32)>\n",
            "tf.Tensor([2 3], shape=(2,), dtype=int32)\n",
            "tf.Tensor(1, shape=(), dtype=int32)\n",
            "tf.Tensor(2, shape=(), dtype=int32)\n"
          ],
          "name": "stdout"
        }
      ]
    },
    {
      "cell_type": "code",
      "metadata": {
        "id": "eS2D1G35SCTJ",
        "outputId": "816598b2-564b-4355-ef50-7e3b619b81a0",
        "colab": {
          "base_uri": "https://localhost:8080/"
        }
      },
      "source": [
        "#Reshaping tensors\n",
        "\n",
        "reshaped_list_tensor2 = tf.reshape(list_tensor2,[6])\n",
        "print(reshaped_list_tensor2)\n",
        "\n",
        "list_tensor3 = tf.Variable([[1,2,3,1],[1,9,10,11],[1,5,11,22],[16,17,18,19]],tf.int16)\n",
        "print(list_tensor3)\n",
        "print(tf.rank(list_tensor3))\n",
        "print(tf.shape(list_tensor3))\n",
        "\n",
        "reshaped_list_tensor3 = tf.reshape(list_tensor3,[2,8,1])\n",
        "print(reshaped_list_tensor3)\n",
        "#or like this\n",
        "\n",
        "reshaped_list_tensor3 = tf.reshape(list_tensor3,[8,2,1])\n",
        "print(reshaped_list_tensor3)\n",
        "\n",
        "#or automatically determine the shape by only giving one dimension!\n",
        "\n",
        "reshaped_list_tensor3 = tf.reshape(list_tensor3,[1,-1])\n",
        "print(reshaped_list_tensor3)\n"
      ],
      "execution_count": 24,
      "outputs": [
        {
          "output_type": "stream",
          "text": [
            "tf.Tensor([1 2 3 4 5 6], shape=(6,), dtype=int32)\n",
            "<tf.Variable 'Variable:0' shape=(4, 4) dtype=int32, numpy=\n",
            "array([[ 1,  2,  3,  1],\n",
            "       [ 1,  9, 10, 11],\n",
            "       [ 1,  5, 11, 22],\n",
            "       [16, 17, 18, 19]], dtype=int32)>\n",
            "tf.Tensor(2, shape=(), dtype=int32)\n",
            "tf.Tensor([4 4], shape=(2,), dtype=int32)\n",
            "tf.Tensor(\n",
            "[[[ 1]\n",
            "  [ 2]\n",
            "  [ 3]\n",
            "  [ 1]\n",
            "  [ 1]\n",
            "  [ 9]\n",
            "  [10]\n",
            "  [11]]\n",
            "\n",
            " [[ 1]\n",
            "  [ 5]\n",
            "  [11]\n",
            "  [22]\n",
            "  [16]\n",
            "  [17]\n",
            "  [18]\n",
            "  [19]]], shape=(2, 8, 1), dtype=int32)\n",
            "tf.Tensor(\n",
            "[[[ 1]\n",
            "  [ 2]]\n",
            "\n",
            " [[ 3]\n",
            "  [ 1]]\n",
            "\n",
            " [[ 1]\n",
            "  [ 9]]\n",
            "\n",
            " [[10]\n",
            "  [11]]\n",
            "\n",
            " [[ 1]\n",
            "  [ 5]]\n",
            "\n",
            " [[11]\n",
            "  [22]]\n",
            "\n",
            " [[16]\n",
            "  [17]]\n",
            "\n",
            " [[18]\n",
            "  [19]]], shape=(8, 2, 1), dtype=int32)\n",
            "tf.Tensor([[ 1  2  3  1  1  9 10 11  1  5 11 22 16 17 18 19]], shape=(1, 16), dtype=int32)\n"
          ],
          "name": "stdout"
        }
      ]
    },
    {
      "cell_type": "code",
      "metadata": {
        "id": "YSQB_ks1Tc4x",
        "outputId": "e9da8e15-780f-4934-af8f-992f4d9639e6",
        "colab": {
          "base_uri": "https://localhost:8080/"
        }
      },
      "source": [
        "#creating a tensor full of 1s (or 0s)\n",
        "tensor_onefull = tf.ones([4,4,4,1])\n",
        "print(tensor_onefull)\n",
        "\n",
        "tensor_zerofull = tf.zeros([5,5])\n",
        "print(tensor_zerofull)\n",
        "#extracting specific values from tensors (similar to slicing in conventional programming)\n",
        "tensor_sliced_onefull = tensor_onefull[0]\n",
        "print(tensor_sliced_onefull)\n",
        "tensor_sliced_zerofull = tensor_zerofull[0,1]\n",
        "print(tensor_sliced_zerofull)"
      ],
      "execution_count": 31,
      "outputs": [
        {
          "output_type": "stream",
          "text": [
            "tf.Tensor(\n",
            "[[[[1.]\n",
            "   [1.]\n",
            "   [1.]\n",
            "   [1.]]\n",
            "\n",
            "  [[1.]\n",
            "   [1.]\n",
            "   [1.]\n",
            "   [1.]]\n",
            "\n",
            "  [[1.]\n",
            "   [1.]\n",
            "   [1.]\n",
            "   [1.]]\n",
            "\n",
            "  [[1.]\n",
            "   [1.]\n",
            "   [1.]\n",
            "   [1.]]]\n",
            "\n",
            "\n",
            " [[[1.]\n",
            "   [1.]\n",
            "   [1.]\n",
            "   [1.]]\n",
            "\n",
            "  [[1.]\n",
            "   [1.]\n",
            "   [1.]\n",
            "   [1.]]\n",
            "\n",
            "  [[1.]\n",
            "   [1.]\n",
            "   [1.]\n",
            "   [1.]]\n",
            "\n",
            "  [[1.]\n",
            "   [1.]\n",
            "   [1.]\n",
            "   [1.]]]\n",
            "\n",
            "\n",
            " [[[1.]\n",
            "   [1.]\n",
            "   [1.]\n",
            "   [1.]]\n",
            "\n",
            "  [[1.]\n",
            "   [1.]\n",
            "   [1.]\n",
            "   [1.]]\n",
            "\n",
            "  [[1.]\n",
            "   [1.]\n",
            "   [1.]\n",
            "   [1.]]\n",
            "\n",
            "  [[1.]\n",
            "   [1.]\n",
            "   [1.]\n",
            "   [1.]]]\n",
            "\n",
            "\n",
            " [[[1.]\n",
            "   [1.]\n",
            "   [1.]\n",
            "   [1.]]\n",
            "\n",
            "  [[1.]\n",
            "   [1.]\n",
            "   [1.]\n",
            "   [1.]]\n",
            "\n",
            "  [[1.]\n",
            "   [1.]\n",
            "   [1.]\n",
            "   [1.]]\n",
            "\n",
            "  [[1.]\n",
            "   [1.]\n",
            "   [1.]\n",
            "   [1.]]]], shape=(4, 4, 4, 1), dtype=float32)\n",
            "tf.Tensor(\n",
            "[[0. 0. 0. 0. 0.]\n",
            " [0. 0. 0. 0. 0.]\n",
            " [0. 0. 0. 0. 0.]\n",
            " [0. 0. 0. 0. 0.]\n",
            " [0. 0. 0. 0. 0.]], shape=(5, 5), dtype=float32)\n",
            "tf.Tensor(\n",
            "[[[1.]\n",
            "  [1.]\n",
            "  [1.]\n",
            "  [1.]]\n",
            "\n",
            " [[1.]\n",
            "  [1.]\n",
            "  [1.]\n",
            "  [1.]]\n",
            "\n",
            " [[1.]\n",
            "  [1.]\n",
            "  [1.]\n",
            "  [1.]]\n",
            "\n",
            " [[1.]\n",
            "  [1.]\n",
            "  [1.]\n",
            "  [1.]]], shape=(4, 4, 1), dtype=float32)\n",
            "tf.Tensor(0.0, shape=(), dtype=float32)\n"
          ],
          "name": "stdout"
        }
      ]
    },
    {
      "cell_type": "code",
      "metadata": {
        "id": "gu4ubbl1UdjN",
        "outputId": "97078e13-caf7-4c93-eb7b-b730ce941e03",
        "colab": {
          "base_uri": "https://localhost:8080/"
        }
      },
      "source": [
        "#another example from previously created tensor\n",
        "print(list_tensor3)\n",
        "tf_slicedexampleagain = list_tensor3[0,-2:]\n",
        "print(tf_slicedexampleagain)\n",
        "\n",
        "#selecting multiple rows\n",
        "tf_slicedexampleagain = list_tensor3[1::]\n",
        "print(tf_slicedexampleagain)"
      ],
      "execution_count": 41,
      "outputs": [
        {
          "output_type": "stream",
          "text": [
            "<tf.Variable 'Variable:0' shape=(4, 4) dtype=int32, numpy=\n",
            "array([[ 1,  2,  3,  1],\n",
            "       [ 1,  9, 10, 11],\n",
            "       [ 1,  5, 11, 22],\n",
            "       [16, 17, 18, 19]], dtype=int32)>\n",
            "tf.Tensor([3 1], shape=(2,), dtype=int32)\n",
            "tf.Tensor(\n",
            "[[ 1  9 10 11]\n",
            " [ 1  5 11 22]\n",
            " [16 17 18 19]], shape=(3, 4), dtype=int32)\n"
          ],
          "name": "stdout"
        }
      ]
    }
  ]
}